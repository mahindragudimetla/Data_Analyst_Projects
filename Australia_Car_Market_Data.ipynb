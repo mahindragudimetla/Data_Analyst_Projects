{
  "nbformat": 4,
  "nbformat_minor": 0,
  "metadata": {
    "colab": {
      "provenance": [],
      "authorship_tag": "ABX9TyPjiFNkP42EKcP59B8tTwPx",
      "include_colab_link": true
    },
    "kernelspec": {
      "name": "python3",
      "display_name": "Python 3"
    },
    "language_info": {
      "name": "python"
    }
  },
  "cells": [
    {
      "cell_type": "markdown",
      "metadata": {
        "id": "view-in-github",
        "colab_type": "text"
      },
      "source": [
        "<a href=\"https://colab.research.google.com/github/mahindragudimetla/Data_Analyst_Projects/blob/main/Australia_Car_Market_Data.ipynb\" target=\"_parent\"><img src=\"https://colab.research.google.com/assets/colab-badge.svg\" alt=\"Open In Colab\"/></a>"
      ]
    },
    {
      "cell_type": "markdown",
      "source": [
        "#Project-5:-Australia Car Market Data"
      ],
      "metadata": {
        "id": "_7lB9Fi-Xq2b"
      }
    },
    {
      "cell_type": "code",
      "execution_count": 1,
      "metadata": {
        "id": "Gaz2QA1vXqDj"
      },
      "outputs": [],
      "source": [
        "import numpy as np\n",
        "import pandas as pd\n",
        "import matplotlib.pyplot as plt\n",
        "import seaborn as sns\n"
      ]
    },
    {
      "cell_type": "code",
      "source": [
        "data=pd.read_csv(\"/content/cars_info.csv\")"
      ],
      "metadata": {
        "id": "YBqdGmlXbPP7"
      },
      "execution_count": 3,
      "outputs": []
    },
    {
      "cell_type": "code",
      "source": [
        "data.shape"
      ],
      "metadata": {
        "colab": {
          "base_uri": "https://localhost:8080/"
        },
        "id": "2SmvLMqubSww",
        "outputId": "6ae80727-78b2-470e-968b-c8ed6ce3093e"
      },
      "execution_count": 4,
      "outputs": [
        {
          "output_type": "execute_result",
          "data": {
            "text/plain": [
              "(17048, 16)"
            ]
          },
          "metadata": {},
          "execution_count": 4
        }
      ]
    },
    {
      "cell_type": "code",
      "source": [
        "data.info()"
      ],
      "metadata": {
        "colab": {
          "base_uri": "https://localhost:8080/"
        },
        "id": "fQOdhzTgbwYr",
        "outputId": "1dfe3302-0d01-464e-df3a-e3f5e9b19e4b"
      },
      "execution_count": 5,
      "outputs": [
        {
          "output_type": "stream",
          "name": "stdout",
          "text": [
            "<class 'pandas.core.frame.DataFrame'>\n",
            "RangeIndex: 17048 entries, 0 to 17047\n",
            "Data columns (total 16 columns):\n",
            " #   Column            Non-Null Count  Dtype \n",
            "---  ------            --------------  ----- \n",
            " 0   ID                17048 non-null  int64 \n",
            " 1   Name              17048 non-null  object\n",
            " 2   Price             17048 non-null  int64 \n",
            " 3   Brand             17048 non-null  object\n",
            " 4   Model             17048 non-null  object\n",
            " 5   Variant           17048 non-null  object\n",
            " 6   Series            17048 non-null  object\n",
            " 7   Year              17048 non-null  int64 \n",
            " 8   Kilometers        17048 non-null  int64 \n",
            " 9   Type              17048 non-null  object\n",
            " 10  Gearbox           17048 non-null  object\n",
            " 11  Fuel              17048 non-null  object\n",
            " 12  Status            17048 non-null  object\n",
            " 13  CC                17048 non-null  int64 \n",
            " 14  Color             17048 non-null  object\n",
            " 15  Seating Capacity  17048 non-null  int64 \n",
            "dtypes: int64(6), object(10)\n",
            "memory usage: 2.1+ MB\n"
          ]
        }
      ]
    },
    {
      "cell_type": "code",
      "source": [
        "data.describe()"
      ],
      "metadata": {
        "colab": {
          "base_uri": "https://localhost:8080/",
          "height": 300
        },
        "id": "N54vmE5zbxd_",
        "outputId": "cd5af9d8-0380-45a9-c4d4-e6915ffc3319"
      },
      "execution_count": 6,
      "outputs": [
        {
          "output_type": "execute_result",
          "data": {
            "text/plain": [
              "                 ID          Price          Year    Kilometers            CC  \\\n",
              "count  1.704800e+04   17048.000000  17048.000000  1.704800e+04  17048.000000   \n",
              "mean   1.279027e+07   36777.778038   2015.481288  1.032314e+05   2491.830303   \n",
              "std    5.051111e+04   30305.015328      4.721591  8.041313e+04    881.985562   \n",
              "min    1.153013e+07    1000.000000   1989.000000  1.000000e+00    875.000000   \n",
              "25%    1.275715e+07   18800.000000   2013.000000  4.450225e+04   1987.000000   \n",
              "50%    1.280207e+07   29990.000000   2016.000000  8.845400e+04   2354.000000   \n",
              "75%    1.283131e+07   45990.000000   2019.000000  1.488735e+05   2981.000000   \n",
              "max    1.285246e+07  999000.000000   2022.000000  2.700000e+06   7300.000000   \n",
              "\n",
              "       Seating Capacity  \n",
              "count      17048.000000  \n",
              "mean           5.115849  \n",
              "std            1.121791  \n",
              "min            2.000000  \n",
              "25%            5.000000  \n",
              "50%            5.000000  \n",
              "75%            5.000000  \n",
              "max           14.000000  "
            ],
            "text/html": [
              "\n",
              "  <div id=\"df-b9e8429b-b14f-4d30-96cb-6278c1268d30\" class=\"colab-df-container\">\n",
              "    <div>\n",
              "<style scoped>\n",
              "    .dataframe tbody tr th:only-of-type {\n",
              "        vertical-align: middle;\n",
              "    }\n",
              "\n",
              "    .dataframe tbody tr th {\n",
              "        vertical-align: top;\n",
              "    }\n",
              "\n",
              "    .dataframe thead th {\n",
              "        text-align: right;\n",
              "    }\n",
              "</style>\n",
              "<table border=\"1\" class=\"dataframe\">\n",
              "  <thead>\n",
              "    <tr style=\"text-align: right;\">\n",
              "      <th></th>\n",
              "      <th>ID</th>\n",
              "      <th>Price</th>\n",
              "      <th>Year</th>\n",
              "      <th>Kilometers</th>\n",
              "      <th>CC</th>\n",
              "      <th>Seating Capacity</th>\n",
              "    </tr>\n",
              "  </thead>\n",
              "  <tbody>\n",
              "    <tr>\n",
              "      <th>count</th>\n",
              "      <td>1.704800e+04</td>\n",
              "      <td>17048.000000</td>\n",
              "      <td>17048.000000</td>\n",
              "      <td>1.704800e+04</td>\n",
              "      <td>17048.000000</td>\n",
              "      <td>17048.000000</td>\n",
              "    </tr>\n",
              "    <tr>\n",
              "      <th>mean</th>\n",
              "      <td>1.279027e+07</td>\n",
              "      <td>36777.778038</td>\n",
              "      <td>2015.481288</td>\n",
              "      <td>1.032314e+05</td>\n",
              "      <td>2491.830303</td>\n",
              "      <td>5.115849</td>\n",
              "    </tr>\n",
              "    <tr>\n",
              "      <th>std</th>\n",
              "      <td>5.051111e+04</td>\n",
              "      <td>30305.015328</td>\n",
              "      <td>4.721591</td>\n",
              "      <td>8.041313e+04</td>\n",
              "      <td>881.985562</td>\n",
              "      <td>1.121791</td>\n",
              "    </tr>\n",
              "    <tr>\n",
              "      <th>min</th>\n",
              "      <td>1.153013e+07</td>\n",
              "      <td>1000.000000</td>\n",
              "      <td>1989.000000</td>\n",
              "      <td>1.000000e+00</td>\n",
              "      <td>875.000000</td>\n",
              "      <td>2.000000</td>\n",
              "    </tr>\n",
              "    <tr>\n",
              "      <th>25%</th>\n",
              "      <td>1.275715e+07</td>\n",
              "      <td>18800.000000</td>\n",
              "      <td>2013.000000</td>\n",
              "      <td>4.450225e+04</td>\n",
              "      <td>1987.000000</td>\n",
              "      <td>5.000000</td>\n",
              "    </tr>\n",
              "    <tr>\n",
              "      <th>50%</th>\n",
              "      <td>1.280207e+07</td>\n",
              "      <td>29990.000000</td>\n",
              "      <td>2016.000000</td>\n",
              "      <td>8.845400e+04</td>\n",
              "      <td>2354.000000</td>\n",
              "      <td>5.000000</td>\n",
              "    </tr>\n",
              "    <tr>\n",
              "      <th>75%</th>\n",
              "      <td>1.283131e+07</td>\n",
              "      <td>45990.000000</td>\n",
              "      <td>2019.000000</td>\n",
              "      <td>1.488735e+05</td>\n",
              "      <td>2981.000000</td>\n",
              "      <td>5.000000</td>\n",
              "    </tr>\n",
              "    <tr>\n",
              "      <th>max</th>\n",
              "      <td>1.285246e+07</td>\n",
              "      <td>999000.000000</td>\n",
              "      <td>2022.000000</td>\n",
              "      <td>2.700000e+06</td>\n",
              "      <td>7300.000000</td>\n",
              "      <td>14.000000</td>\n",
              "    </tr>\n",
              "  </tbody>\n",
              "</table>\n",
              "</div>\n",
              "    <div class=\"colab-df-buttons\">\n",
              "\n",
              "  <div class=\"colab-df-container\">\n",
              "    <button class=\"colab-df-convert\" onclick=\"convertToInteractive('df-b9e8429b-b14f-4d30-96cb-6278c1268d30')\"\n",
              "            title=\"Convert this dataframe to an interactive table.\"\n",
              "            style=\"display:none;\">\n",
              "\n",
              "  <svg xmlns=\"http://www.w3.org/2000/svg\" height=\"24px\" viewBox=\"0 -960 960 960\">\n",
              "    <path d=\"M120-120v-720h720v720H120Zm60-500h600v-160H180v160Zm220 220h160v-160H400v160Zm0 220h160v-160H400v160ZM180-400h160v-160H180v160Zm440 0h160v-160H620v160ZM180-180h160v-160H180v160Zm440 0h160v-160H620v160Z\"/>\n",
              "  </svg>\n",
              "    </button>\n",
              "\n",
              "  <style>\n",
              "    .colab-df-container {\n",
              "      display:flex;\n",
              "      gap: 12px;\n",
              "    }\n",
              "\n",
              "    .colab-df-convert {\n",
              "      background-color: #E8F0FE;\n",
              "      border: none;\n",
              "      border-radius: 50%;\n",
              "      cursor: pointer;\n",
              "      display: none;\n",
              "      fill: #1967D2;\n",
              "      height: 32px;\n",
              "      padding: 0 0 0 0;\n",
              "      width: 32px;\n",
              "    }\n",
              "\n",
              "    .colab-df-convert:hover {\n",
              "      background-color: #E2EBFA;\n",
              "      box-shadow: 0px 1px 2px rgba(60, 64, 67, 0.3), 0px 1px 3px 1px rgba(60, 64, 67, 0.15);\n",
              "      fill: #174EA6;\n",
              "    }\n",
              "\n",
              "    .colab-df-buttons div {\n",
              "      margin-bottom: 4px;\n",
              "    }\n",
              "\n",
              "    [theme=dark] .colab-df-convert {\n",
              "      background-color: #3B4455;\n",
              "      fill: #D2E3FC;\n",
              "    }\n",
              "\n",
              "    [theme=dark] .colab-df-convert:hover {\n",
              "      background-color: #434B5C;\n",
              "      box-shadow: 0px 1px 3px 1px rgba(0, 0, 0, 0.15);\n",
              "      filter: drop-shadow(0px 1px 2px rgba(0, 0, 0, 0.3));\n",
              "      fill: #FFFFFF;\n",
              "    }\n",
              "  </style>\n",
              "\n",
              "    <script>\n",
              "      const buttonEl =\n",
              "        document.querySelector('#df-b9e8429b-b14f-4d30-96cb-6278c1268d30 button.colab-df-convert');\n",
              "      buttonEl.style.display =\n",
              "        google.colab.kernel.accessAllowed ? 'block' : 'none';\n",
              "\n",
              "      async function convertToInteractive(key) {\n",
              "        const element = document.querySelector('#df-b9e8429b-b14f-4d30-96cb-6278c1268d30');\n",
              "        const dataTable =\n",
              "          await google.colab.kernel.invokeFunction('convertToInteractive',\n",
              "                                                    [key], {});\n",
              "        if (!dataTable) return;\n",
              "\n",
              "        const docLinkHtml = 'Like what you see? Visit the ' +\n",
              "          '<a target=\"_blank\" href=https://colab.research.google.com/notebooks/data_table.ipynb>data table notebook</a>'\n",
              "          + ' to learn more about interactive tables.';\n",
              "        element.innerHTML = '';\n",
              "        dataTable['output_type'] = 'display_data';\n",
              "        await google.colab.output.renderOutput(dataTable, element);\n",
              "        const docLink = document.createElement('div');\n",
              "        docLink.innerHTML = docLinkHtml;\n",
              "        element.appendChild(docLink);\n",
              "      }\n",
              "    </script>\n",
              "  </div>\n",
              "\n",
              "\n",
              "<div id=\"df-2591b136-5089-4773-80fe-2714fefd721e\">\n",
              "  <button class=\"colab-df-quickchart\" onclick=\"quickchart('df-2591b136-5089-4773-80fe-2714fefd721e')\"\n",
              "            title=\"Suggest charts\"\n",
              "            style=\"display:none;\">\n",
              "\n",
              "<svg xmlns=\"http://www.w3.org/2000/svg\" height=\"24px\"viewBox=\"0 0 24 24\"\n",
              "     width=\"24px\">\n",
              "    <g>\n",
              "        <path d=\"M19 3H5c-1.1 0-2 .9-2 2v14c0 1.1.9 2 2 2h14c1.1 0 2-.9 2-2V5c0-1.1-.9-2-2-2zM9 17H7v-7h2v7zm4 0h-2V7h2v10zm4 0h-2v-4h2v4z\"/>\n",
              "    </g>\n",
              "</svg>\n",
              "  </button>\n",
              "\n",
              "<style>\n",
              "  .colab-df-quickchart {\n",
              "      --bg-color: #E8F0FE;\n",
              "      --fill-color: #1967D2;\n",
              "      --hover-bg-color: #E2EBFA;\n",
              "      --hover-fill-color: #174EA6;\n",
              "      --disabled-fill-color: #AAA;\n",
              "      --disabled-bg-color: #DDD;\n",
              "  }\n",
              "\n",
              "  [theme=dark] .colab-df-quickchart {\n",
              "      --bg-color: #3B4455;\n",
              "      --fill-color: #D2E3FC;\n",
              "      --hover-bg-color: #434B5C;\n",
              "      --hover-fill-color: #FFFFFF;\n",
              "      --disabled-bg-color: #3B4455;\n",
              "      --disabled-fill-color: #666;\n",
              "  }\n",
              "\n",
              "  .colab-df-quickchart {\n",
              "    background-color: var(--bg-color);\n",
              "    border: none;\n",
              "    border-radius: 50%;\n",
              "    cursor: pointer;\n",
              "    display: none;\n",
              "    fill: var(--fill-color);\n",
              "    height: 32px;\n",
              "    padding: 0;\n",
              "    width: 32px;\n",
              "  }\n",
              "\n",
              "  .colab-df-quickchart:hover {\n",
              "    background-color: var(--hover-bg-color);\n",
              "    box-shadow: 0 1px 2px rgba(60, 64, 67, 0.3), 0 1px 3px 1px rgba(60, 64, 67, 0.15);\n",
              "    fill: var(--button-hover-fill-color);\n",
              "  }\n",
              "\n",
              "  .colab-df-quickchart-complete:disabled,\n",
              "  .colab-df-quickchart-complete:disabled:hover {\n",
              "    background-color: var(--disabled-bg-color);\n",
              "    fill: var(--disabled-fill-color);\n",
              "    box-shadow: none;\n",
              "  }\n",
              "\n",
              "  .colab-df-spinner {\n",
              "    border: 2px solid var(--fill-color);\n",
              "    border-color: transparent;\n",
              "    border-bottom-color: var(--fill-color);\n",
              "    animation:\n",
              "      spin 1s steps(1) infinite;\n",
              "  }\n",
              "\n",
              "  @keyframes spin {\n",
              "    0% {\n",
              "      border-color: transparent;\n",
              "      border-bottom-color: var(--fill-color);\n",
              "      border-left-color: var(--fill-color);\n",
              "    }\n",
              "    20% {\n",
              "      border-color: transparent;\n",
              "      border-left-color: var(--fill-color);\n",
              "      border-top-color: var(--fill-color);\n",
              "    }\n",
              "    30% {\n",
              "      border-color: transparent;\n",
              "      border-left-color: var(--fill-color);\n",
              "      border-top-color: var(--fill-color);\n",
              "      border-right-color: var(--fill-color);\n",
              "    }\n",
              "    40% {\n",
              "      border-color: transparent;\n",
              "      border-right-color: var(--fill-color);\n",
              "      border-top-color: var(--fill-color);\n",
              "    }\n",
              "    60% {\n",
              "      border-color: transparent;\n",
              "      border-right-color: var(--fill-color);\n",
              "    }\n",
              "    80% {\n",
              "      border-color: transparent;\n",
              "      border-right-color: var(--fill-color);\n",
              "      border-bottom-color: var(--fill-color);\n",
              "    }\n",
              "    90% {\n",
              "      border-color: transparent;\n",
              "      border-bottom-color: var(--fill-color);\n",
              "    }\n",
              "  }\n",
              "</style>\n",
              "\n",
              "  <script>\n",
              "    async function quickchart(key) {\n",
              "      const quickchartButtonEl =\n",
              "        document.querySelector('#' + key + ' button');\n",
              "      quickchartButtonEl.disabled = true;  // To prevent multiple clicks.\n",
              "      quickchartButtonEl.classList.add('colab-df-spinner');\n",
              "      try {\n",
              "        const charts = await google.colab.kernel.invokeFunction(\n",
              "            'suggestCharts', [key], {});\n",
              "      } catch (error) {\n",
              "        console.error('Error during call to suggestCharts:', error);\n",
              "      }\n",
              "      quickchartButtonEl.classList.remove('colab-df-spinner');\n",
              "      quickchartButtonEl.classList.add('colab-df-quickchart-complete');\n",
              "    }\n",
              "    (() => {\n",
              "      let quickchartButtonEl =\n",
              "        document.querySelector('#df-2591b136-5089-4773-80fe-2714fefd721e button');\n",
              "      quickchartButtonEl.style.display =\n",
              "        google.colab.kernel.accessAllowed ? 'block' : 'none';\n",
              "    })();\n",
              "  </script>\n",
              "</div>\n",
              "\n",
              "    </div>\n",
              "  </div>\n"
            ],
            "application/vnd.google.colaboratory.intrinsic+json": {
              "type": "dataframe",
              "summary": "{\n  \"name\": \"data\",\n  \"rows\": 8,\n  \"fields\": [\n    {\n      \"column\": \"ID\",\n      \"properties\": {\n        \"dtype\": \"number\",\n        \"std\": 5830937.6150217205,\n        \"min\": 17048.0,\n        \"max\": 12852464.0,\n        \"num_unique_values\": 8,\n        \"samples\": [\n          12790266.456123885,\n          12802071.5,\n          17048.0\n        ],\n        \"semantic_type\": \"\",\n        \"description\": \"\"\n      }\n    },\n    {\n      \"column\": \"Price\",\n      \"properties\": {\n        \"dtype\": \"number\",\n        \"std\": 344384.07153224625,\n        \"min\": 1000.0,\n        \"max\": 999000.0,\n        \"num_unique_values\": 8,\n        \"samples\": [\n          36777.778038479584,\n          29990.0,\n          17048.0\n        ],\n        \"semantic_type\": \"\",\n        \"description\": \"\"\n      }\n    },\n    {\n      \"column\": \"Year\",\n      \"properties\": {\n        \"dtype\": \"number\",\n        \"std\": 5462.660768051541,\n        \"min\": 4.721591455882952,\n        \"max\": 17048.0,\n        \"num_unique_values\": 8,\n        \"samples\": [\n          2015.4812881276396,\n          2016.0,\n          17048.0\n        ],\n        \"semantic_type\": \"\",\n        \"description\": \"\"\n      }\n    },\n    {\n      \"column\": \"Kilometers\",\n      \"properties\": {\n        \"dtype\": \"number\",\n        \"std\": 931460.0445153966,\n        \"min\": 1.0,\n        \"max\": 2700000.0,\n        \"num_unique_values\": 8,\n        \"samples\": [\n          103231.40168934772,\n          88454.0,\n          17048.0\n        ],\n        \"semantic_type\": \"\",\n        \"description\": \"\"\n      }\n    },\n    {\n      \"column\": \"CC\",\n      \"properties\": {\n        \"dtype\": \"number\",\n        \"std\": 5461.328006307436,\n        \"min\": 875.0,\n        \"max\": 17048.0,\n        \"num_unique_values\": 8,\n        \"samples\": [\n          2491.8303026748004,\n          2354.0,\n          17048.0\n        ],\n        \"semantic_type\": \"\",\n        \"description\": \"\"\n      }\n    },\n    {\n      \"column\": \"Seating Capacity\",\n      \"properties\": {\n        \"dtype\": \"number\",\n        \"std\": 6025.498654851034,\n        \"min\": 1.1217909002088284,\n        \"max\": 17048.0,\n        \"num_unique_values\": 6,\n        \"samples\": [\n          17048.0,\n          5.115849366494603,\n          14.0\n        ],\n        \"semantic_type\": \"\",\n        \"description\": \"\"\n      }\n    }\n  ]\n}"
            }
          },
          "metadata": {},
          "execution_count": 6
        }
      ]
    },
    {
      "cell_type": "code",
      "source": [
        "data.isna().sum()"
      ],
      "metadata": {
        "colab": {
          "base_uri": "https://localhost:8080/",
          "height": 585
        },
        "id": "90sv8MR_by71",
        "outputId": "161ec7a9-7ce5-410e-f679-2665b1dcba56"
      },
      "execution_count": 7,
      "outputs": [
        {
          "output_type": "execute_result",
          "data": {
            "text/plain": [
              "ID                  0\n",
              "Name                0\n",
              "Price               0\n",
              "Brand               0\n",
              "Model               0\n",
              "Variant             0\n",
              "Series              0\n",
              "Year                0\n",
              "Kilometers          0\n",
              "Type                0\n",
              "Gearbox             0\n",
              "Fuel                0\n",
              "Status              0\n",
              "CC                  0\n",
              "Color               0\n",
              "Seating Capacity    0\n",
              "dtype: int64"
            ],
            "text/html": [
              "<div>\n",
              "<style scoped>\n",
              "    .dataframe tbody tr th:only-of-type {\n",
              "        vertical-align: middle;\n",
              "    }\n",
              "\n",
              "    .dataframe tbody tr th {\n",
              "        vertical-align: top;\n",
              "    }\n",
              "\n",
              "    .dataframe thead th {\n",
              "        text-align: right;\n",
              "    }\n",
              "</style>\n",
              "<table border=\"1\" class=\"dataframe\">\n",
              "  <thead>\n",
              "    <tr style=\"text-align: right;\">\n",
              "      <th></th>\n",
              "      <th>0</th>\n",
              "    </tr>\n",
              "  </thead>\n",
              "  <tbody>\n",
              "    <tr>\n",
              "      <th>ID</th>\n",
              "      <td>0</td>\n",
              "    </tr>\n",
              "    <tr>\n",
              "      <th>Name</th>\n",
              "      <td>0</td>\n",
              "    </tr>\n",
              "    <tr>\n",
              "      <th>Price</th>\n",
              "      <td>0</td>\n",
              "    </tr>\n",
              "    <tr>\n",
              "      <th>Brand</th>\n",
              "      <td>0</td>\n",
              "    </tr>\n",
              "    <tr>\n",
              "      <th>Model</th>\n",
              "      <td>0</td>\n",
              "    </tr>\n",
              "    <tr>\n",
              "      <th>Variant</th>\n",
              "      <td>0</td>\n",
              "    </tr>\n",
              "    <tr>\n",
              "      <th>Series</th>\n",
              "      <td>0</td>\n",
              "    </tr>\n",
              "    <tr>\n",
              "      <th>Year</th>\n",
              "      <td>0</td>\n",
              "    </tr>\n",
              "    <tr>\n",
              "      <th>Kilometers</th>\n",
              "      <td>0</td>\n",
              "    </tr>\n",
              "    <tr>\n",
              "      <th>Type</th>\n",
              "      <td>0</td>\n",
              "    </tr>\n",
              "    <tr>\n",
              "      <th>Gearbox</th>\n",
              "      <td>0</td>\n",
              "    </tr>\n",
              "    <tr>\n",
              "      <th>Fuel</th>\n",
              "      <td>0</td>\n",
              "    </tr>\n",
              "    <tr>\n",
              "      <th>Status</th>\n",
              "      <td>0</td>\n",
              "    </tr>\n",
              "    <tr>\n",
              "      <th>CC</th>\n",
              "      <td>0</td>\n",
              "    </tr>\n",
              "    <tr>\n",
              "      <th>Color</th>\n",
              "      <td>0</td>\n",
              "    </tr>\n",
              "    <tr>\n",
              "      <th>Seating Capacity</th>\n",
              "      <td>0</td>\n",
              "    </tr>\n",
              "  </tbody>\n",
              "</table>\n",
              "</div><br><label><b>dtype:</b> int64</label>"
            ]
          },
          "metadata": {},
          "execution_count": 7
        }
      ]
    },
    {
      "cell_type": "code",
      "source": [
        "#1) What is the average price of cars across different brands, and which brands have the highest and lowest average prices?\n",
        "average_prices = data.groupby('Brand')['Price'].mean()\n",
        "highest_average_price_brand = average_prices.idxmax()\n",
        "lowest_average_price_brand = average_prices.idxmin()\n",
        "\n",
        "print(\"Average prices of cars across different brands:\\n\", average_prices)\n",
        "print(\"\\nBrand with the highest average price:\", highest_average_price_brand)\n",
        "print(\"Brand with the lowest average price:\", lowest_average_price_brand)\n",
        "\n"
      ],
      "metadata": {
        "colab": {
          "base_uri": "https://localhost:8080/"
        },
        "id": "d756fn2Mb0o7",
        "outputId": "fb659ded-a71c-4713-e7ed-27efa19260f4"
      },
      "execution_count": 8,
      "outputs": [
        {
          "output_type": "stream",
          "name": "stdout",
          "text": [
            "Average prices of cars across different brands:\n",
            " Brand\n",
            "Abarth              37493.800000\n",
            "Alfa Romeo          49282.545455\n",
            "Aston Martin       235120.000000\n",
            "Audi                52605.027027\n",
            "BMW                 56373.000000\n",
            "Bentley            181405.428571\n",
            "Chery                8749.500000\n",
            "Chevrolet          145833.857143\n",
            "Chrysler            35253.595238\n",
            "Citroen             24233.384615\n",
            "Cupra               62334.200000\n",
            "Dodge               13836.214286\n",
            "FPV                 91490.000000\n",
            "Fiat                20448.529412\n",
            "Ford                36091.152349\n",
            "Foton               18972.000000\n",
            "GWM                 38250.793103\n",
            "Genesis             64888.000000\n",
            "Great Wall          12300.851852\n",
            "HSV                 74036.162162\n",
            "Haval               32565.285714\n",
            "Hino                46500.000000\n",
            "Holden              23343.577409\n",
            "Honda               23326.019370\n",
            "Hyundai             27240.912603\n",
            "Infiniti            32747.777778\n",
            "Isuzu               42962.951311\n",
            "Iveco               52990.000000\n",
            "Jaguar              61976.394737\n",
            "Jeep                39098.102902\n",
            "Kia                 30301.614247\n",
            "LDV                 37798.696721\n",
            "Lamborghini        452923.333333\n",
            "Land Rover          64485.186813\n",
            "Lexus               50281.566667\n",
            "MG                  24967.536082\n",
            "Mahindra            13990.000000\n",
            "Maserati            84859.750000\n",
            "Mazda               29900.791774\n",
            "Mercedes-Benz       63490.852800\n",
            "Mini                34974.303030\n",
            "Mitsubishi          28923.222533\n",
            "Mitsubishi Fuso     24900.000000\n",
            "Nissan              26919.916667\n",
            "Opel                11838.250000\n",
            "Peugeot             27627.066667\n",
            "Porsche            153987.835165\n",
            "Proton              11990.000000\n",
            "Ram                105055.956522\n",
            "Renault             34400.525316\n",
            "Saab                 8435.000000\n",
            "Skoda               37865.675000\n",
            "Smart               13990.000000\n",
            "Ssangyong           25287.363636\n",
            "Subaru              28556.454962\n",
            "Suzuki              18956.243750\n",
            "Toyota              40719.680997\n",
            "Volkswagen          38100.763494\n",
            "Volvo               52159.484472\n",
            "Name: Price, dtype: float64\n",
            "\n",
            "Brand with the highest average price: Lamborghini\n",
            "Brand with the lowest average price: Saab\n"
          ]
        }
      ]
    },
    {
      "cell_type": "code",
      "source": [
        "#2) How does the condition of a car (Status) affect its price?\n",
        "average_price_by_status = data.groupby('Status')['Price'].mean()\n",
        "print(\"\\nAverage price of cars by Status:\\n\", average_price_by_status)\n",
        "plt.figure(figsize=(8, 6))\n",
        "sns.barplot(x='Status', y='Price', data=data)\n",
        "plt.title('Car Price Distribution by Status')\n",
        "plt.xlabel('Status')\n",
        "plt.ylabel('Price')\n",
        "plt.show()\n"
      ],
      "metadata": {
        "colab": {
          "base_uri": "https://localhost:8080/",
          "height": 685
        },
        "id": "JEkLLU5Rj38l",
        "outputId": "1c3c6352-b260-44a0-b915-4efe71b4dbaf"
      },
      "execution_count": 10,
      "outputs": [
        {
          "output_type": "stream",
          "name": "stdout",
          "text": [
            "\n",
            "Average price of cars by Status:\n",
            " Status\n",
            "Demo            67307.576227\n",
            "New In Stock    55703.207283\n",
            "Used            35638.707250\n",
            "Name: Price, dtype: float64\n"
          ]
        },
        {
          "output_type": "display_data",
          "data": {
            "text/plain": [
              "<Figure size 800x600 with 1 Axes>"
            ],
            "image/png": "[encoded data removed]"
          },
          "metadata": {}
        }
      ]
    },
    {
      "cell_type": "code",
      "source": [
        "#3) Is there a correlation between mileage (Kilometers) and the price of a car?\n",
        "correlation = data['Kilometers'].corr(data['Price'])\n",
        "print(\"\\nCorrelation between mileage and price:\", correlation)\n",
        "plt.figure(figsize=(8, 6))\n",
        "sns.lineplot(x='Kilometers', y='Price', data=data)\n",
        "plt.title('Correlation between Mileage and Price')\n",
        "plt.xlabel('Mileage (Kilometers)')\n",
        "plt.ylabel('Price')\n",
        "plt.show()\n"
      ],
      "metadata": {
        "colab": {
          "base_uri": "https://localhost:8080/",
          "height": 599
        },
        "id": "vcB_H4RekJM3",
        "outputId": "70644402-62ec-42b6-b3dd-1291e1947b54"
      },
      "execution_count": 14,
      "outputs": [
        {
          "output_type": "stream",
          "name": "stdout",
          "text": [
            "\n",
            "Correlation between mileage and price: -0.4474897290060361\n"
          ]
        },
        {
          "output_type": "display_data",
          "data": {
            "text/plain": [
              "<Figure size 800x600 with 1 Axes>"
            ],
            "image/png": "[encoded data removed]"
          },
          "metadata": {}
        }
      ]
    },
    {
      "cell_type": "code",
      "source": [
        "#4) How does engine capacity (CC) relate to car price and mileage?\n",
        "correlation_cc = data['CC'].corr(data['Price'])\n",
        "correlation_mileage = data['CC'].corr(data['Kilometers'])\n",
        "print(\"\\nCorrelation between engine capacity and price:\", correlation_cc)\n",
        "print(\"Correlation between engine capacity and mileage:\", correlation_mileage)\n",
        "plt.figure(figsize=(12, 6))\n",
        "sns.scatterplot(x='CC', y='Price', data=data)\n",
        "plt.title('Engine Capacity vs. Price')\n",
        "plt.xlabel('Engine Capacity (CC)')\n",
        "plt.ylabel('Price')\n",
        "plt.show()"
      ],
      "metadata": {
        "colab": {
          "base_uri": "https://localhost:8080/",
          "height": 616
        },
        "id": "DyAZIbOTkYuy",
        "outputId": "bdea0d5d-55a1-47f1-80e2-ea5b0dec41c5"
      },
      "execution_count": 17,
      "outputs": [
        {
          "output_type": "stream",
          "name": "stdout",
          "text": [
            "\n",
            "Correlation between engine capacity and price: 0.29820547470569003\n",
            "Correlation between engine capacity and mileage: 0.18521906769438357\n"
          ]
        },
        {
          "output_type": "display_data",
          "data": {
            "text/plain": [
              "<Figure size 1200x600 with 1 Axes>"
            ],
            "image/png": "[encoded data removed]"
          },
          "metadata": {}
        }
      ]
    },
    {
      "cell_type": "code",
      "source": [],
      "metadata": {
        "id": "yx-3qV8fmX7M"
      },
      "execution_count": null,
      "outputs": []
    }
  ]
}